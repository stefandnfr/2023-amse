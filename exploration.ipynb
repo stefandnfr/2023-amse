{
 "cells": [
  {
   "attachments": {},
   "cell_type": "markdown",
   "metadata": {},
   "source": [
    "# Data Exploration\n",
    "\n",
    "In this notebook describe your data exploration steps."
   ]
  },
  {
   "attachments": {},
   "cell_type": "markdown",
   "metadata": {},
   "source": [
    "## Install dependencies"
   ]
  },
  {
   "cell_type": "code",
   "execution_count": 1,
   "metadata": {},
   "outputs": [
    {
     "name": "stdout",
     "output_type": "stream",
     "text": [
      "Requirement already satisfied: tabulate in c:\\users\\dendo\\appdata\\local\\packages\\pythonsoftwarefoundation.python.3.8_qbz5n2kfra8p0\\localcache\\local-packages\\python38\\site-packages (0.8.9)\n",
      "Note: you may need to restart the kernel to use updated packages.\n",
      "Requirement already satisfied: requests in c:\\users\\dendo\\appdata\\local\\packages\\pythonsoftwarefoundation.python.3.8_qbz5n2kfra8p0\\localcache\\local-packages\\python38\\site-packages (2.31.0)\n",
      "Requirement already satisfied: charset-normalizer<4,>=2 in c:\\users\\dendo\\appdata\\local\\packages\\pythonsoftwarefoundation.python.3.8_qbz5n2kfra8p0\\localcache\\local-packages\\python38\\site-packages (from requests) (3.1.0)\n",
      "Requirement already satisfied: idna<4,>=2.5 in c:\\users\\dendo\\appdata\\local\\packages\\pythonsoftwarefoundation.python.3.8_qbz5n2kfra8p0\\localcache\\local-packages\\python38\\site-packages (from requests) (2.10)\n",
      "Requirement already satisfied: urllib3<3,>=1.21.1 in c:\\users\\dendo\\appdata\\local\\packages\\pythonsoftwarefoundation.python.3.8_qbz5n2kfra8p0\\localcache\\local-packages\\python38\\site-packages (from requests) (1.26.2)\n",
      "Requirement already satisfied: certifi>=2017.4.17 in c:\\users\\dendo\\appdata\\local\\packages\\pythonsoftwarefoundation.python.3.8_qbz5n2kfra8p0\\localcache\\local-packages\\python38\\site-packages (from requests) (2020.11.8)\n",
      "Note: you may need to restart the kernel to use updated packages.\n"
     ]
    }
   ],
   "source": [
    "%pip install tabulate\n",
    "%pip install requests"
   ]
  },
  {
   "cell_type": "code",
   "execution_count": 2,
   "metadata": {},
   "outputs": [],
   "source": [
    "# no dependencies\n",
    "import sqlite3\n",
    "from tabulate import tabulate\n",
    "from main import pipeline"
   ]
  },
  {
   "attachments": {},
   "cell_type": "markdown",
   "metadata": {},
   "source": [
    "## Load data"
   ]
  },
  {
   "cell_type": "code",
   "execution_count": 3,
   "metadata": {},
   "outputs": [
    {
     "name": "stdout",
     "output_type": "stream",
     "text": [
      "old database deleted successfully.\n",
      "created new database with 236 entries.\n",
      "old database deleted successfully.\n",
      "created new database with 6519 entries.\n",
      "old database deleted successfully.\n",
      "created new database with 121 entries.\n"
     ]
    }
   ],
   "source": [
    "pipeline()\n"
   ]
  },
  {
   "attachments": {},
   "cell_type": "markdown",
   "metadata": {},
   "source": [
    "### Look at the first rows"
   ]
  },
  {
   "cell_type": "code",
   "execution_count": 4,
   "metadata": {},
   "outputs": [
    {
     "name": "stdout",
     "output_type": "stream",
     "text": [
      "╒══════════╤═══════════════╤════════════════╤══════════════╤════════════╤═════════════╕\n",
      "│ origin   │ destination   │   train_origin │   train_dest │   quantity │   emissions │\n",
      "╞══════════╪═══════════════╪════════════════╪══════════════╪════════════╪═════════════╡\n",
      "│ CGN      │ TXL           │        8003330 │      8089089 │          4 │         496 │\n",
      "├──────────┼───────────────┼────────────────┼──────────────┼────────────┼─────────────┤\n",
      "│ CGN      │ TXL           │        8003330 │      8089089 │         14 │        1736 │\n",
      "├──────────┼───────────────┼────────────────┼──────────────┼────────────┼─────────────┤\n",
      "│ CGN      │ TXL           │        8003330 │      8089089 │          2 │         496 │\n",
      "├──────────┼───────────────┼────────────────┼──────────────┼────────────┼─────────────┤\n",
      "│ CGN      │ TXL           │        8003330 │      8089089 │          4 │         496 │\n",
      "├──────────┼───────────────┼────────────────┼──────────────┼────────────┼─────────────┤\n",
      "│ CGN      │ FRA           │        8003330 │      8070003 │          1 │       50571 │\n",
      "├──────────┼───────────────┼────────────────┼──────────────┼────────────┼─────────────┤\n",
      "│ CGN      │ TXL           │        8003330 │      8089089 │          2 │         248 │\n",
      "├──────────┼───────────────┼────────────────┼──────────────┼────────────┼─────────────┤\n",
      "│ CGN      │ TXL           │        8003330 │      8089089 │          2 │         496 │\n",
      "├──────────┼───────────────┼────────────────┼──────────────┼────────────┼─────────────┤\n",
      "│ CGN      │ MUC           │        8003330 │      8004167 │          2 │         714 │\n",
      "├──────────┼───────────────┼────────────────┼──────────────┼────────────┼─────────────┤\n",
      "│ CGN      │ MUC           │        8003330 │      8004167 │          4 │         476 │\n",
      "├──────────┼───────────────┼────────────────┼──────────────┼────────────┼─────────────┤\n",
      "│ CGN      │ HAM           │        8003330 │      8002547 │          4 │         808 │\n",
      "╘══════════╧═══════════════╧════════════════╧══════════════╧════════════╧═════════════╛\n"
     ]
    }
   ],
   "source": [
    "\n",
    "sql_path = \".\\data\\domestic_flights.sqlite\"\n",
    "\n",
    "# Connect to the SQLite database\n",
    "conn = sqlite3.connect(sql_path)\n",
    "\n",
    "# Create a cursor object to execute SQL queries\n",
    "cursor = conn.cursor()\n",
    "\n",
    "# Execute a query to retrieve the first 10 rows from a table (replace 'table_name' with the actual table name)\n",
    "cursor.execute(\"SELECT * FROM t LIMIT 10\")\n",
    "rows = cursor.fetchall()\n",
    "\n",
    "# Get the column names\n",
    "columns = [desc[0] for desc in cursor.description]\n",
    "\n",
    "# Format the rows and column names into a table\n",
    "table = tabulate(rows, headers=columns, tablefmt=\"fancy_grid\")\n",
    "\n",
    "# Print the table\n",
    "print(table)\n",
    "# Close the cursor and the database connection\n",
    "cursor.close()\n",
    "conn.close()\n"
   ]
  },
  {
   "attachments": {},
   "cell_type": "markdown",
   "metadata": {},
   "source": [
    "### Data exploration\n",
    "This is some basic data about the datasets."
   ]
  },
  {
   "cell_type": "code",
   "execution_count": 5,
   "metadata": {},
   "outputs": [
    {
     "name": "stdout",
     "output_type": "stream",
     "text": [
      "start airports:\n",
      "BER: 0\n",
      "CGN: 96\n",
      "DRS: 1\n",
      "DUS: 7\n",
      "FRA: 2\n",
      "HAM: 0\n",
      "LEJ: 3\n",
      "MUC: 4\n",
      "NUE: 1\n",
      "TXL: 7\n",
      "destination airports\n",
      "BER: 1\n",
      "CGN: 23\n",
      "DRS: 9\n",
      "DUS: 4\n",
      "FRA: 5\n",
      "HAM: 6\n",
      "LEJ: 5\n",
      "MUC: 15\n",
      "NUE: 0\n",
      "TXL: 53\n"
     ]
    }
   ],
   "source": [
    "\n",
    "sql_path = \".\\data\\domestic_flights.sqlite\"\n",
    "conn = sqlite3.connect(sql_path)\n",
    "cursor = conn.cursor()\n",
    "\n",
    "# Execute a query to retrieve the table metadata (replace 'table_name' with the actual table name)\n",
    "cursor.execute(\"PRAGMA table_info(t)\")\n",
    "table_info = cursor.fetchall()\n",
    "\n",
    "# Extract column names and column info\n",
    "column_names = [info[1] for info in table_info]\n",
    "column_info = [(info[1], info[2], \"NULL\" if info[3] == 0 else \"NOT NULL\", info[4]) for info in table_info]\n",
    "\n",
    "\n",
    "airports =  [\"BER\",\"CGN\",\"DRS\",\"DUS\",\"FRA\",\"HAM\",\"LEJ\",\"MUC\",\"NUE\",\"TXL\"]\n",
    "\n",
    "print(\"start airports:\")\n",
    "for origin in airports:\n",
    "    cursor.execute(f\"SELECT COUNT(*) FROM t WHERE origin = '{origin}'\")\n",
    "    cell_count = cursor.fetchone()[0]\n",
    "    print(origin, end=\": \")\n",
    "    print(cell_count)\n",
    "\n",
    "print(\"destination airports\")\n",
    "for dest in airports:\n",
    "    cursor.execute(f\"SELECT COUNT(*) FROM t WHERE destination = '{dest}'\")\n",
    "    cell_count = cursor.fetchone()[0]\n",
    "    print(dest, end=\": \")\n",
    "    print(cell_count)\n",
    "\n",
    "cursor.close()\n",
    "conn.close()\n",
    "\n"
   ]
  },
  {
   "cell_type": "code",
   "execution_count": 17,
   "metadata": {},
   "outputs": [],
   "source": []
  }
 ],
 "metadata": {
  "kernelspec": {
   "display_name": "Python 3",
   "language": "python",
   "name": "python3"
  },
  "language_info": {
   "codemirror_mode": {
    "name": "ipython",
    "version": 3
   },
   "file_extension": ".py",
   "mimetype": "text/x-python",
   "name": "python",
   "nbconvert_exporter": "python",
   "pygments_lexer": "ipython3",
   "version": "3.8.10"
  },
  "orig_nbformat": 4
 },
 "nbformat": 4,
 "nbformat_minor": 2
}
