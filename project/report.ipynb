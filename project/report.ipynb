{
 "cells": [
  {
   "attachments": {},
   "cell_type": "markdown",
   "metadata": {},
   "source": [
    "# Report: Comparing domestic flights with train alternatives\n",
    "\n",
    "In recent years, there has been a remarkable surge in global interest and concern surrounding the issue of climate change, reflecting an increasing recognition of its far-reaching consequences and the urgent need for collective action. Train operators such as Deutsche Bahn in Germany use tools such as their [UmweltMobilCheck](https://www.img-bahn.de/s3/prod/v/img_responsive/ecology/umc-grundlagenbericht.pdf) or [EcoPassenger](https://uic.org/sustainability/energy-efficiency-and-co2-emissions/article/ecopassenger) internationally to compare the benefits and drawbacks of taking a train in comparison to trains and cars with respect to duration and generated CO2 emissions. \n",
    "\n",
    "This report uses open data from domestic (=within Germany) [business flights of the municipality of Cologne](https://mobilithek.info/offers/-1005216978664916194). It compares the CO2 emissions of the domestic flights taken in the year 2019 with public alternatives such as trains. The main focus will be on duration of transport and estimated CO2 emission. As there are no public APIs to access the emission data, an emission calculator for the train alternatives will be provided to create a transparent answer. This project aims to have an automated data pipeline method of analyzing data sets such as the example. \n",
    "\n",
    "The question that interests us is: What drawbacks and benefits are there in taking the train instead of flying domestic? "
   ]
  },
  {
   "attachments": {},
   "cell_type": "markdown",
   "metadata": {},
   "source": [
    "## Install dependencies\n",
    "Initially, install all required dependencies. "
   ]
  },
  {
   "cell_type": "code",
   "execution_count": null,
   "metadata": {},
   "outputs": [],
   "source": [
    "import os\n",
    "if os.path.basename(os.getcwd()) == \"project\":\n",
    "    print(\"changing directory to root...\")\n",
    "    %cd ..\n",
    "if os.path.isfile(\"requirements.txt\"):\n",
    "    print(\"installing requirements...\")\n",
    "    %pip install -r requirements.txt\n",
    "from main import pipeline,showFirstRow, showFlightComparison, showEmissionComparison, showTime,showEmissions\n",
    "import pandas as pd\n"
   ]
  },
  {
   "attachments": {},
   "cell_type": "markdown",
   "metadata": {},
   "source": [
    "## Dataset\n",
    "#### Generation\n",
    "Create a sqlite file of the collected information that automatically calculates the required data for the results by running the pipeline. First, 236 flight entries are pulled from [Datasource1](https://mobilithek.info/offers/-1005216978664916194) into `fluege.sqlite`. Then, 6519 train station entries are pulled from [Datasource2](https://data.deutschebahn.com/dataset/data-haltestellen/resource/21edf505-e97d-4c99-bcc9-a46e85f8620f.html) into `train_stations.sqlite`. By mapping the train stations to the corresponding airports in Germany, a combined raw data base of 107 domestic flight entries is created into `domestic_flights.sqlite`. For every flight, the durations and emissions are calculated and saved into `final.sqlite`. The final `pipeline()` creates the following database showing the first row as an example:"
   ]
  },
  {
   "cell_type": "code",
   "execution_count": 12,
   "metadata": {},
   "outputs": [
    {
     "data": {
      "text/html": [
       "<div>\n",
       "<style scoped>\n",
       "    .dataframe tbody tr th:only-of-type {\n",
       "        vertical-align: middle;\n",
       "    }\n",
       "\n",
       "    .dataframe tbody tr th {\n",
       "        vertical-align: top;\n",
       "    }\n",
       "\n",
       "    .dataframe thead th {\n",
       "        text-align: right;\n",
       "    }\n",
       "</style>\n",
       "<table border=\"1\" class=\"dataframe\">\n",
       "  <thead>\n",
       "    <tr style=\"text-align: right;\">\n",
       "      <th></th>\n",
       "      <th>origin</th>\n",
       "      <th>destination</th>\n",
       "      <th>flight_duration</th>\n",
       "      <th>train_duration</th>\n",
       "      <th>train_emissions_A</th>\n",
       "      <th>train_emissions_B</th>\n",
       "      <th>flight_emissions</th>\n",
       "      <th>quantity</th>\n",
       "    </tr>\n",
       "  </thead>\n",
       "  <tbody>\n",
       "    <tr>\n",
       "      <th>0</th>\n",
       "      <td>CGN</td>\n",
       "      <td>TXL</td>\n",
       "      <td>64</td>\n",
       "      <td>354</td>\n",
       "      <td>1860</td>\n",
       "      <td>26286</td>\n",
       "      <td>496000</td>\n",
       "      <td>4</td>\n",
       "    </tr>\n",
       "  </tbody>\n",
       "</table>\n",
       "</div>"
      ],
      "text/plain": [
       "  origin destination  flight_duration  train_duration  train_emissions_A  \\\n",
       "0    CGN         TXL               64             354               1860   \n",
       "\n",
       "   train_emissions_B  flight_emissions  quantity  \n",
       "0              26286            496000         4  "
      ]
     },
     "execution_count": 12,
     "metadata": {},
     "output_type": "execute_result"
    }
   ],
   "source": [
    "pipeline(verbose = False, use_real_durations = False)\n",
    "showFirstRow()"
   ]
  },
  {
   "attachments": {},
   "cell_type": "markdown",
   "metadata": {},
   "source": [
    "#### Explanation of generated data\n",
    "All 107 entries of the generated database represent a domestic flight from the original source. It states the origin and destination iata airport code, the actual flight duration, an estimated flight duration, the estimated train duration with respective train emissions A and B, as well as the flight emissions as stated in the original data source. The following entries were added to the original data source:\n",
    "* flight_duration: Due to unavailabilty of open source flight duration data, the flight duration will be calculated and estimated according to the aerial distance. This is equivalent to common flight duration calculators as found online. Since there are few unique domestic connections in our database, an exact lookup of the connections can be used setting the flag `use_real_durations` to `True`.\n",
    "* train_duration: As there is no open data on actual train durations available, the [HAFAS](https://www.hacon.de/en/portfolio/operator-business-products/) transport management system will be used to get real world train information.\n",
    "* train_emissions_A: This assumes that all interregional trains such as ICE trains are fully carbon neutral and have such zero emissions. This is the theoretical value using the status-quo. However, the ICE trains in reality are not operated by pure green electricity as DB buys a certain part of green energy and internally books this factor for the ICE train operations. Further reading can be found [here](https://www.img-bahn.de/s3/prod/v/img_responsive/ecology/umc-grundlagenbericht.pdf) and [here](https://www.br.de/nachrichten/wirtschaft/faktenfuchs-wie-gruen-ist-die-deutsche-bahn,Sp7n6hB). \n",
    "* train_emissions_B: This is the emissions value for a train per km according to the [Umweltbundesamt](https://www.umweltbundesamt.de/bild/vergleich-der-durchschnittlichen-emissionen-0). It values regional trains at 93 g/km and interregional at 46 g/km of carbon emissions."
   ]
  },
  {
   "attachments": {},
   "cell_type": "markdown",
   "metadata": {},
   "source": [
    "#### Plausibility check of the generated data\n",
    "##### Flight durations\n",
    "There are many non-open flight duration estimators as well as the real world information. Comparing the information of calculated duration vs real world data from July 2023 (choosing the shortest trip time) gets the following results for three different trips. The fourth column nonstop states if there was a nonstop flight available. Note the difference in duration when there is a flight with at least one stop."
   ]
  },
  {
   "cell_type": "code",
   "execution_count": 3,
   "metadata": {},
   "outputs": [
    {
     "data": {
      "text/html": [
       "<div>\n",
       "<style scoped>\n",
       "    .dataframe tbody tr th:only-of-type {\n",
       "        vertical-align: middle;\n",
       "    }\n",
       "\n",
       "    .dataframe tbody tr th {\n",
       "        vertical-align: top;\n",
       "    }\n",
       "\n",
       "    .dataframe thead th {\n",
       "        text-align: right;\n",
       "    }\n",
       "</style>\n",
       "<table border=\"1\" class=\"dataframe\">\n",
       "  <thead>\n",
       "    <tr style=\"text-align: right;\">\n",
       "      <th></th>\n",
       "      <th>trip</th>\n",
       "      <th>estimated_duration</th>\n",
       "      <th>actual_duration</th>\n",
       "      <th>nonstop</th>\n",
       "    </tr>\n",
       "  </thead>\n",
       "  <tbody>\n",
       "    <tr>\n",
       "      <th>0</th>\n",
       "      <td>CGN-TXL</td>\n",
       "      <td>64</td>\n",
       "      <td>70</td>\n",
       "      <td>yes</td>\n",
       "    </tr>\n",
       "    <tr>\n",
       "      <th>1</th>\n",
       "      <td>CGN-FRA</td>\n",
       "      <td>40</td>\n",
       "      <td>180</td>\n",
       "      <td>no</td>\n",
       "    </tr>\n",
       "    <tr>\n",
       "      <th>2</th>\n",
       "      <td>CGN-MUC</td>\n",
       "      <td>62</td>\n",
       "      <td>70</td>\n",
       "      <td>yes</td>\n",
       "    </tr>\n",
       "  </tbody>\n",
       "</table>\n",
       "</div>"
      ],
      "text/plain": [
       "      trip  estimated_duration  actual_duration nonstop\n",
       "0  CGN-TXL                  64               70     yes\n",
       "1  CGN-FRA                  40              180      no\n",
       "2  CGN-MUC                  62               70     yes"
      ]
     },
     "execution_count": 3,
     "metadata": {},
     "output_type": "execute_result"
    }
   ],
   "source": [
    "showFlightComparison(3)"
   ]
  },
  {
   "attachments": {},
   "cell_type": "markdown",
   "metadata": {},
   "source": [
    "##### Train emissions\n",
    "The train emission calculation states the two different approaches as stated above. For the 17 unique trips that have been undertaken, the three most taken trips examples are chosen to compare the plausibility of the used data by comparing them with the value of the [UmweltMobilChecker (UMC)](https://www.umweltmobilcheck.de/). The second column displays the calculated value as in train_emissions_A as stated above, the third column matches the corresponding setting at UMC by selecting the market based method which uses a green electricity model. The fourth column is the calculated value according to train_emissions_B and the fifth column matches it using the UMC by selecting the location based method. "
   ]
  },
  {
   "cell_type": "code",
   "execution_count": 4,
   "metadata": {},
   "outputs": [
    {
     "data": {
      "text/html": [
       "<div>\n",
       "<style scoped>\n",
       "    .dataframe tbody tr th:only-of-type {\n",
       "        vertical-align: middle;\n",
       "    }\n",
       "\n",
       "    .dataframe tbody tr th {\n",
       "        vertical-align: top;\n",
       "    }\n",
       "\n",
       "    .dataframe thead th {\n",
       "        text-align: right;\n",
       "    }\n",
       "</style>\n",
       "<table border=\"1\" class=\"dataframe\">\n",
       "  <thead>\n",
       "    <tr style=\"text-align: right;\">\n",
       "      <th></th>\n",
       "      <th>trip</th>\n",
       "      <th>count</th>\n",
       "      <th>train_emission_A_own</th>\n",
       "      <th>market_based_UMC</th>\n",
       "      <th>train_emission_B_own</th>\n",
       "      <th>location_based_UMC</th>\n",
       "    </tr>\n",
       "  </thead>\n",
       "  <tbody>\n",
       "    <tr>\n",
       "      <th>0</th>\n",
       "      <td>CGN-TXL</td>\n",
       "      <td>50</td>\n",
       "      <td>1860</td>\n",
       "      <td>2200</td>\n",
       "      <td>26286</td>\n",
       "      <td>15100</td>\n",
       "    </tr>\n",
       "    <tr>\n",
       "      <th>1</th>\n",
       "      <td>CGN-MUC</td>\n",
       "      <td>15</td>\n",
       "      <td>2697</td>\n",
       "      <td>2900</td>\n",
       "      <td>25927</td>\n",
       "      <td>15600</td>\n",
       "    </tr>\n",
       "    <tr>\n",
       "      <th>2</th>\n",
       "      <td>CGN-DRS</td>\n",
       "      <td>8</td>\n",
       "      <td>558</td>\n",
       "      <td>460</td>\n",
       "      <td>26180</td>\n",
       "      <td>16400</td>\n",
       "    </tr>\n",
       "  </tbody>\n",
       "</table>\n",
       "</div>"
      ],
      "text/plain": [
       "      trip  count  train_emission_A_own  market_based_UMC  \\\n",
       "0  CGN-TXL     50                  1860              2200   \n",
       "1  CGN-MUC     15                  2697              2900   \n",
       "2  CGN-DRS      8                   558               460   \n",
       "\n",
       "   train_emission_B_own  location_based_UMC  \n",
       "0                 26286               15100  \n",
       "1                 25927               15600  \n",
       "2                 26180               16400  "
      ]
     },
     "execution_count": 4,
     "metadata": {},
     "output_type": "execute_result"
    }
   ],
   "source": [
    "showEmissionComparison()"
   ]
  },
  {
   "attachments": {},
   "cell_type": "markdown",
   "metadata": {},
   "source": [
    "## Evaluation\n",
    "What are the drawbacks and benefits from taking the train instead flying domestically? To answer our initial question, we evaluate the data using our two metrics time and emissions.  "
   ]
  },
  {
   "attachments": {},
   "cell_type": "markdown",
   "metadata": {},
   "source": [
    "### Time\n",
    "By setting the `puffer_in_min` which takes into account a certain time required to be at the airport beforehand, the total time of flights can be manipulated. "
   ]
  },
  {
   "cell_type": "code",
   "execution_count": 5,
   "metadata": {},
   "outputs": [
    {
     "data": {
      "image/png": "[encoded data removed]",
      "text/plain": [
       "<Figure size 432x288 with 1 Axes>"
      ]
     },
     "metadata": {
      "needs_background": "light"
     },
     "output_type": "display_data"
    }
   ],
   "source": [
    "showTime(puffer_in_min = 90)"
   ]
  },
  {
   "attachments": {},
   "cell_type": "markdown",
   "metadata": {},
   "source": [
    "### Carbon Emissions\n",
    "By analyzing the data, it seems like the last column `quantity` has already been multiplied into the total flight emissions. Therefore, this factor needs to be multiplied to create the total train emissions per trip as well. However, trains usually do not have a strictly limited capacity compared to airplanes and can fit additional people. As these distances are quite long, requiring a seat is reasonable thus this argument can be refuted. \n"
   ]
  },
  {
   "cell_type": "code",
   "execution_count": 6,
   "metadata": {},
   "outputs": [
    {
     "data": {
      "image/png": "[encoded data removed]",
      "text/plain": [
       "<Figure size 432x288 with 1 Axes>"
      ]
     },
     "metadata": {
      "needs_background": "light"
     },
     "output_type": "display_data"
    }
   ],
   "source": [
    "showEmissions()"
   ]
  },
  {
   "attachments": {},
   "cell_type": "markdown",
   "metadata": {},
   "source": [
    "### Conclusion \n",
    "Overall, it can be clearly seen that a compromise between emissions and time needs to be made. While trains operate on much lower carbon emissions than planes, they take significantly longer. However, especially for work trips, it might be possible to use that time on the train efficiently. "
   ]
  }
 ],
 "metadata": {
  "kernelspec": {
   "display_name": "env",
   "language": "python",
   "name": "python3"
  },
  "language_info": {
   "codemirror_mode": {
    "name": "ipython",
    "version": 3
   },
   "file_extension": ".py",
   "mimetype": "text/x-python",
   "name": "python",
   "nbconvert_exporter": "python",
   "pygments_lexer": "ipython3",
   "version": "3.8.10"
  },
  "orig_nbformat": 4
 },
 "nbformat": 4,
 "nbformat_minor": 2
}
